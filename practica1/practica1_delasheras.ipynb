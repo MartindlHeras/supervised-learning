{
 "cells": [
  {
   "cell_type": "markdown",
   "metadata": {},
   "source": [
    "Autor: Martín de las Heras"
   ]
  },
  {
   "cell_type": "markdown",
   "metadata": {},
   "source": [
    "## Cuaderno Prácticas 1\n",
    "\n",
    "En primer lugar importamos las librerías que vamos a utilizar a lo largo de la práctica"
   ]
  },
  {
   "cell_type": "code",
   "execution_count": 5,
   "metadata": {},
   "outputs": [],
   "source": [
    "# Tratamiento de datos\n",
    "# ==============================================================================\n",
    "import pandas as pd\n",
    "\n",
    "# Gráficos\n",
    "# ==============================================================================\n",
    "import matplotlib.pyplot as plt\n",
    "\n",
    "# Preprocesado y modelado\n",
    "# ==============================================================================\n",
    "from scipy.stats import pearsonr\n",
    "from sklearn.linear_model import LinearRegression\n",
    "from sklearn.model_selection import train_test_split\n",
    "\n",
    "# Configuración warnings\n",
    "# ==============================================================================\n",
    "import warnings\n",
    "warnings.filterwarnings('ignore')"
   ]
  },
  {
   "cell_type": "markdown",
   "metadata": {},
   "source": [
    "### Ejercicio 1.1\n",
    "En un estudio de eficacia de un sistema operativo se está tratando de ver la relación entre el porcentaje de utilización de la CPU, Y, y el número de programas que se encuentran en ejecución, X. Para ello se seleccionaron los siguientes datos:"
   ]
  },
  {
   "cell_type": "code",
   "execution_count": 6,
   "metadata": {},
   "outputs": [],
   "source": [
    "# Datos\n",
    "# ==============================================================================\n",
    "inputs = [1,2,3,4,5,6,7,8,9,10]\n",
    "outputs = [20,36,48,60,66,74,80,84,87,89]"
   ]
  },
  {
   "cell_type": "markdown",
   "metadata": {},
   "source": [
    "Y los representamos en una gráfica:"
   ]
  },
  {
   "cell_type": "code",
   "execution_count": 7,
   "metadata": {},
   "outputs": [
    {
     "data": {
      "image/png": "[encoded data removed]",
      "text/plain": [
       "<Figure size 640x480 with 1 Axes>"
      ]
     },
     "metadata": {},
     "output_type": "display_data"
    }
   ],
   "source": [
    "plt.scatter(inputs, outputs)\n",
    "plt.show()"
   ]
  },
  {
   "cell_type": "markdown",
   "metadata": {},
   "source": [
    "En esta gráfica vemos que probablemente se pueda estimar con un error relativamente bajo, ya que están sobre una recta.\n",
    "\n",
    "Una vez tenemos esto, definimos el dataset a utilizar y lo dividimos en entrenamiento y test:"
   ]
  },
  {
   "cell_type": "code",
   "execution_count": 8,
   "metadata": {},
   "outputs": [],
   "source": [
    "datos = pd.DataFrame({'inputs': inputs, 'outputs': outputs})\n",
    "\n",
    "# División de los datos en train y test\n",
    "# ==============================================================================\n",
    "X = datos[['inputs']]\n",
    "y = datos['outputs']\n",
    "\n",
    "X_train, X_test, y_train, y_test = train_test_split(\n",
    "                                        X.values.reshape(-1,1),\n",
    "                                        y.values.reshape(-1,1),\n",
    "                                        train_size   = 0.8,\n",
    "                                        random_state = 1234,\n",
    "                                        shuffle      = True\n",
    "                                    )"
   ]
  },
  {
   "cell_type": "markdown",
   "metadata": {},
   "source": [
    "Definimos el modelo, realizamos el ajuste e imprimimos los resultados:"
   ]
  },
  {
   "cell_type": "code",
   "execution_count": 9,
   "metadata": {},
   "outputs": [
    {
     "name": "stdout",
     "output_type": "stream",
     "text": [
      "Recta de regresión: y=22.91+7.47*X\n",
      "Coeficiente de correlación de Pearson:  0.9636971139268111\n",
      "Coeficiente de determinación R^2: 0.9283574391342052\n"
     ]
    }
   ],
   "source": [
    "# Creación del modelo\n",
    "# ==============================================================================\n",
    "modelo = LinearRegression()\n",
    "modelo.fit(X = X_train.reshape(-1, 1), y = y_train)\n",
    "\n",
    "# Información del modelo\n",
    "# ==============================================================================\n",
    "print(\"Recta de regresión: y=%.2f+%.2f*X\" % (modelo.intercept_[0], modelo.coef_.flatten()[0]))\n",
    "# Correlación lineal entre las dos variables\n",
    "# ==============================================================================\n",
    "corr_test = pearsonr(x = datos['inputs'], y =  datos['outputs'])\n",
    "print(\"Coeficiente de correlación de Pearson: \", corr_test[0])\n",
    "print(\"Coeficiente de determinación R^2:\", modelo.score(X, y))"
   ]
  },
  {
   "cell_type": "markdown",
   "metadata": {},
   "source": [
    "Se puede ver con la recta y con los coeficientes que están claramente correladas, dado que tenemos el coeficiente de correlación de Pearson cercano a 1 y un coeficiente de determinación R^2 también en un valor cercano al 1.\n",
    "Podemos ver también que se trata de una recta con pendiente positiva, lo cual indica una relación directa."
   ]
  },
  {
   "cell_type": "markdown",
   "metadata": {},
   "source": [
    "### Ejercicio 1.2\n",
    "PROAUTO es una reconocida cadena de atención al automóvil donde el análisis para cada día del tiempo medio de espera de un vehículo hasta ser atendido, en horas, variable Y, y el número de empleados trabajando ese día, X; a lo largo de 6 días ha proporcionado la siguiente información:"
   ]
  },
  {
   "cell_type": "code",
   "execution_count": 10,
   "metadata": {},
   "outputs": [],
   "source": [
    "# Datos\n",
    "# ==============================================================================\n",
    "inputs = [30,27,24,32,20,35]\n",
    "outputs = [0.5,1,0.9,0.6,1.2,0.4]"
   ]
  },
  {
   "cell_type": "markdown",
   "metadata": {},
   "source": [
    "Y los representamos en una gráfica:"
   ]
  },
  {
   "cell_type": "code",
   "execution_count": 11,
   "metadata": {},
   "outputs": [
    {
     "data": {
      "image/png": "[encoded data removed]",
      "text/plain": [
       "<Figure size 640x480 with 1 Axes>"
      ]
     },
     "metadata": {},
     "output_type": "display_data"
    }
   ],
   "source": [
    "plt.clf()\n",
    "plt.scatter(inputs, outputs)\n",
    "plt.show()"
   ]
  },
  {
   "cell_type": "markdown",
   "metadata": {},
   "source": [
    "En esta gráfica vemos que probablemente se pueda estimar con un error relativamente bajo, ya que están sobre una recta.\n",
    "\n",
    "Una vez tenemos esto, definimos el dataset a utilizar y lo dividimos en entrenamiento y test:"
   ]
  },
  {
   "cell_type": "code",
   "execution_count": 12,
   "metadata": {},
   "outputs": [],
   "source": [
    "datos = pd.DataFrame({'inputs': inputs, 'outputs': outputs})\n",
    "\n",
    "# División de los datos en train y test\n",
    "# ==============================================================================\n",
    "X = datos[['inputs']]\n",
    "y = datos['outputs']\n",
    "\n",
    "X_train, X_test, y_train, y_test = train_test_split(\n",
    "                                        X.values.reshape(-1,1),\n",
    "                                        y.values.reshape(-1,1),\n",
    "                                        train_size   = 0.8,\n",
    "                                        random_state = 1234,\n",
    "                                        shuffle      = True\n",
    "                                    )"
   ]
  },
  {
   "cell_type": "markdown",
   "metadata": {},
   "source": [
    "Definimos el modelo, realizamos el ajuste e imprimimos los resultados:"
   ]
  },
  {
   "cell_type": "code",
   "execution_count": 13,
   "metadata": {},
   "outputs": [
    {
     "name": "stdout",
     "output_type": "stream",
     "text": [
      "Recta de regresión: y=2.24-0.05*X\n",
      "Coeficiente de correlación de Pearson:  -0.9299811099505544\n",
      "Coeficiente de determinación R^2: 0.8573489458787593\n"
     ]
    }
   ],
   "source": [
    "# Creación del modelo\n",
    "# ==============================================================================\n",
    "modelo = LinearRegression()\n",
    "modelo.fit(X = X_train.reshape(-1, 1), y = y_train)\n",
    "\n",
    "# Información del modelo\n",
    "# ==============================================================================\n",
    "print(\"Recta de regresión: y=%.2f%.2f*X\" % (modelo.intercept_[0], modelo.coef_.flatten()[0]))\n",
    "# Correlación lineal entre las dos variables\n",
    "# ==============================================================================\n",
    "corr_test = pearsonr(x = datos['inputs'], y =  datos['outputs'])\n",
    "print(\"Coeficiente de correlación de Pearson: \", corr_test[0])\n",
    "print(\"Coeficiente de determinación R^2:\", modelo.score(X, y))"
   ]
  },
  {
   "cell_type": "markdown",
   "metadata": {},
   "source": [
    "Se puede ver con la recta y con los coeficientes que están claramente correladas, dado que tenemos el coeficiente de correlación de Pearson cercano a -1 y un coeficiente de determinación R^2 también en un valor cercano al 1.\n",
    "Podemos ver también que se trata de una recta con pendiente negativa, lo cual indica una relación inversa."
   ]
  },
  {
   "cell_type": "markdown",
   "metadata": {},
   "source": [
    "### Ejercicio 1.3\n",
    "La valoración de bienes inmuebles es uno de los ámbitos donde se está utilizando la IA y los modelos de AS basados en regresión lineal simple y múltiple. Para ello se realiza una regresión lineal múltiple con el siguiente código:\n",
    "\n",
    "``` python\n",
    "import pandas\n",
    "from sklearn import linear_model\n",
    "\n",
    "# Importar los datos en csv\n",
    "\n",
    "df = pandas.read_csv(\"data.csv\")\n",
    "\n",
    "# Definir las variables aleatorias X e y\n",
    "\n",
    "X = df[['Weight', 'Volume']]\n",
    "y = df['CO2']\n",
    "\n",
    "# Llamar directamente a la función de regresión lineal\n",
    "\n",
    "regr = linear_model.LinearRegression()\n",
    "regr.fit(X, y)\n",
    "\n",
    "# Predice las emisiones de Co2 de un coche con un peso de 2300kg, y un volumen de 1300cm3:\n",
    "predictedCO2 = regr.predict([[2300, 1300]])\n",
    "\n",
    "print(predictedCO2)\n",
    "```\n",
    "\n",
    "[Artículo sobre la regresión lineal múltiple](https://www.investopedia.com/terms/m/mlr.asp#:~:text=Key%20Takeaways-,Multiple%20linear%20regression%20(MLR)%2C%20also%20known%20simply%20as%20multiple,uses%20just%20one%20explanatory%20variable.)\n",
    "\n",
    "[Artículo sobre la regresión lineal múltiple en Python](https://medium.com/machine-learning-with-python/multiple-linear-regression-implementation-in-python-2de9b303fc0c)"
   ]
  }
 ],
 "metadata": {
  "kernelspec": {
   "display_name": "Python 3 (ipykernel)",
   "language": "python",
   "name": "python3"
  },
  "language_info": {
   "codemirror_mode": {
    "name": "ipython",
    "version": 3
   },
   "file_extension": ".py",
   "mimetype": "text/x-python",
   "name": "python",
   "nbconvert_exporter": "python",
   "pygments_lexer": "ipython3",
   "version": "3.11.6"
  }
 },
 "nbformat": 4,
 "nbformat_minor": 4
}
