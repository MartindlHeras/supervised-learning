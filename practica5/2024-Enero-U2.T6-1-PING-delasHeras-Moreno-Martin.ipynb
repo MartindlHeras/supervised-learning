{
 "cells": [
  {
   "cell_type": "markdown",
   "metadata": {},
   "source": [
    "Autor: Martín de las Heras"
   ]
  },
  {
   "cell_type": "markdown",
   "metadata": {},
   "source": [
    "# Práctica 5"
   ]
  },
  {
   "cell_type": "markdown",
   "metadata": {},
   "source": [
    "**U2.T6.1.-**\n",
    "\n",
    "La página web \n",
    "\n",
    "https://eldave93.github.io/Machine-Learning-in-Python-20-21/Week_09_Trees/1_Decision_Trees.html\n",
    "\n",
    "fue comentada en la sesión del 16 de diciembre de 2023 y figura en el módulo de CANVAS de dicho día. Es un ejemplo de código en PYTHON para construir árboles de clasificación y calcular medidas de exactitud, utilizando el conjunto de los 342 pingüinos de 3 especies diferentes y de 3 islas del archipiélago Palmer, en la Antárctica. El segundo ejemplo con los datos sobre “Breast Cancer Wisconsin” es muy interesante al incluir los análisis de pre-poda y post-poda.\n",
    "\n",
    "Ambos ejemplos se deben ampliar con la selección de un conjunto de entrenamiento (TR) y un conjunto de test (TS), obteniendo la matriz de confusión y otras medidas de error en cada uno de esos conjuntos.\n",
    "\n",
    "**a)** Añadir comentarios al citado código (sólo la parte de los pingüinos que acaba en la celda [26]), indicando lo que realiza cada celda o bloque. Comentar si es posible programar alguna celda de manera más eficiente a la que muestra la sintaxis que está en la web anterior. \n",
    "\n",
    "**b)** Interpretar las salidas gráficas que se generan al ejecutar cada una de las celdas. \n",
    "\n",
    "El código propiamente dicho, empieza en la celda 8, previamente se han establecido ciertas funciones para visualizar y facilitar la extracción de los datos de cara a los siguientes ejercicios.\n",
    "\n",
    "Comenzamos en la celda 8, con una visualización de las 5 primeras líneas del *dataset*, seguido del llamado *pairplot* un conjunto de gráficas donde se puede observar la distribución de las especies de los pingüinos en función de dos (en algunos casos solo una) características, tales como la longitud del ala o la longitud o profundidad del pico.\n",
    "\n",
    "Aquí podemos ver cómo, por lo general, siempre hay dos especies de pingüino que tienen relativamente parecida la característica, por lo que depender solo de una de cara a la clasificación, implicará una tasa de error grande.\n",
    "\n",
    "En la celda 10, podemos ver una gráfica parecida a la del *pairplot*, pero solamente para dos tipos de pingüino.\n",
    "\n",
    "A continuación en la celda 11 podemos ver el código necesario para imprimir por pantalla de la manera que ellos han escogido el árbol de decisión y las regiones de decisión del mismo. De la misma manera en la celda 12, se crea un árbol de decisión de profundidad 1.\n",
    "\n",
    "En concreto, teniendo en cuenta la longitud del pico y la longitud de la aleta. Y se imprime tanto las regiones como el árbol de decisión, usando la función definida la figura 11. Esto podría hacerse una manera más simple sin acceder a los *datasets* que crearon ellos, sino simplemente definiendo a partir del *dataset* de los pingüinos original.\n",
    "\n",
    "En la figura 13, podemos ver un ejemplo de una librería utilizada para imprimir árboles de decisión distinta a la que han creado ellos. En las cuatro celdas siguientes experimentan con las profundidades y las distintas características que le puede añadir al árbol de decisión para poder clasificar distintos tipos de pingüinos en función de distintos parámetros e imprime por pantalla los árboles de decisión resultantes. Por último, en este apartado la celda 18. Establece cómo sacar la probabilidad de clasificación de una muestra en concreto.\n",
    "\n",
    "Todo este código podría mejorarse con un conjunto de entrenamiento y otro de test en vez de utilizar los mismos datos para todo.\n",
    "\n",
    "En el apartado 3 nos dirigimos a la implementación del algoritmo, CART. Para lo cual define las funciones Gini, entropía, error y cómo graficar la evolución de estas métricas a lo largo del entrenamiento del árbol de decisión. \n",
    "\n",
    "De la misma manera, también define cómo calcular el error de clasificación. Cómo graficar la impuridad de la entropía y la impuridad Gini. \n",
    "También explica por qué no se utiliza el error de clasificación que como hemos visto en clase no es una métrica adecuada para los árboles de decisión.\n",
    "\n",
    "De la misma manera, por último en la celda 26. Establece un nivel de importancia de las distintas características de los pingüinos de cara a una clasificación mediante árboles. De dónde sale que la más importante de todas es la longitud de la aleta."
   ]
  }
 ],
 "metadata": {
  "kernelspec": {
   "display_name": "Python 3",
   "language": "python",
   "name": "python3"
  },
  "language_info": {
   "codemirror_mode": {
    "name": "ipython",
    "version": 3
   },
   "file_extension": ".py",
   "mimetype": "text/x-python",
   "name": "python",
   "nbconvert_exporter": "python",
   "pygments_lexer": "ipython3",
   "version": "3.11.7"
  }
 },
 "nbformat": 4,
 "nbformat_minor": 2
}
